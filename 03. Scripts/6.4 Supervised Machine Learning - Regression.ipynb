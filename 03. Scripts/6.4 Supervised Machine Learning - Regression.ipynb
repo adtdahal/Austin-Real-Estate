{
 "cells": [
  {
   "cell_type": "markdown",
   "id": "d4d7c7b8",
   "metadata": {},
   "source": [
    "### This task aims to explore the following hypothesis: \n",
    "##### If a home has more square feet of living area, then the price will be higher"
   ]
  },
  {
   "cell_type": "markdown",
   "id": "87da4d0d",
   "metadata": {},
   "source": [
    "# 01. Importing Libraries"
   ]
  },
  {
   "cell_type": "code",
   "execution_count": 1,
   "id": "bcf69fd7",
   "metadata": {},
   "outputs": [],
   "source": [
    "# Importing libraries\n",
    "\n",
    "import pandas as pd\n",
    "import numpy as np\n",
    "import seaborn as sns\n",
    "import matplotlib\n",
    "import matplotlib.pyplot as plt\n",
    "import os\n",
    "import sklearn\n",
    "from sklearn.model_selection import train_test_split \n",
    "from sklearn.linear_model import LinearRegression\n",
    "from sklearn.metrics import mean_squared_error, r2_score"
   ]
  },
  {
   "cell_type": "code",
   "execution_count": 2,
   "id": "3983366d",
   "metadata": {},
   "outputs": [],
   "source": [
    "# Ensuring created graphs are displayed w/in notebook w/out the need to 'call' them specifically\n",
    "\n",
    "%matplotlib inline"
   ]
  },
  {
   "cell_type": "markdown",
   "id": "3fdbcf5c",
   "metadata": {},
   "source": [
    "# 02. Importing Data"
   ]
  },
  {
   "cell_type": "code",
   "execution_count": 3,
   "id": "dfa0d8f5",
   "metadata": {},
   "outputs": [],
   "source": [
    "# Project folder pathway\n",
    "\n",
    "path = r'C:\\Users\\SD.DESKTOP-45BHU58\\OneDrive\\Desktop\\CF\\Section 6 - Advanced Analytics\\Final Project'"
   ]
  },
  {
   "cell_type": "code",
   "execution_count": 4,
   "id": "ea2366ec",
   "metadata": {},
   "outputs": [
    {
     "data": {
      "text/plain": [
       "'C:\\\\Users\\\\SD.DESKTOP-45BHU58\\\\OneDrive\\\\Desktop\\\\CF\\\\Section 6 - Advanced Analytics\\\\Final Project'"
      ]
     },
     "execution_count": 4,
     "metadata": {},
     "output_type": "execute_result"
    }
   ],
   "source": [
    "path"
   ]
  },
  {
   "cell_type": "code",
   "execution_count": 5,
   "id": "e9c591da",
   "metadata": {},
   "outputs": [],
   "source": [
    "# Importing cleaned housing data\n",
    "\n",
    "df = pd.read_csv(os.path.join(path, 'Data', 'Prepared Data', 'austin_housing_clean_3.csv'))"
   ]
  },
  {
   "cell_type": "markdown",
   "id": "169dbb7c",
   "metadata": {},
   "source": [
    "# 03. Data Wrangling"
   ]
  },
  {
   "cell_type": "code",
   "execution_count": 6,
   "id": "32974e42",
   "metadata": {},
   "outputs": [
    {
     "data": {
      "text/plain": [
       "Index(['Unnamed: 0', 'latitude', 'longitude', 'propertyTaxRate',\n",
       "       'hasAssociation', 'hasCooling', 'hasGarage', 'hasHeating', 'hasSpa',\n",
       "       'hasView', 'homeType', 'yearBuilt', 'price', 'numPriceChanges',\n",
       "       'saleDate', 'saleMonth', 'saleYear', 'latestPriceSource', 'numOfPhotos',\n",
       "       'numOfAccessibilityFeatures', 'numOfAppliances', 'numOfParkingFeatures',\n",
       "       'numOfPatioAndPorchFeatures', 'numOfSecurityFeatures',\n",
       "       'numOfWaterfrontFeatures', 'numOfWindowFeatures',\n",
       "       'numOfCommunityFeatures', 'lotSizeSqFt', 'livingAreaSqFt',\n",
       "       'numOfPrimarySchools', 'numOfElementarySchools', 'numOfMiddleSchools',\n",
       "       'numOfHighSchools', 'avgSchoolDistance', 'avgSchoolRating',\n",
       "       'avgSchoolSize', 'medianStudentsPerTeacher', 'numOfBathrooms',\n",
       "       'numOfBedrooms', 'numOfStories', 'age', 'value', 'ageCategory',\n",
       "       'zipcode', 'zipcode_median'],\n",
       "      dtype='object')"
      ]
     },
     "execution_count": 6,
     "metadata": {},
     "output_type": "execute_result"
    }
   ],
   "source": [
    "# Checking columns\n",
    "\n",
    "df.columns"
   ]
  },
  {
   "cell_type": "code",
   "execution_count": 7,
   "id": "88576aae",
   "metadata": {},
   "outputs": [
    {
     "data": {
      "text/html": [
       "<div>\n",
       "<style scoped>\n",
       "    .dataframe tbody tr th:only-of-type {\n",
       "        vertical-align: middle;\n",
       "    }\n",
       "\n",
       "    .dataframe tbody tr th {\n",
       "        vertical-align: top;\n",
       "    }\n",
       "\n",
       "    .dataframe thead th {\n",
       "        text-align: right;\n",
       "    }\n",
       "</style>\n",
       "<table border=\"1\" class=\"dataframe\">\n",
       "  <thead>\n",
       "    <tr style=\"text-align: right;\">\n",
       "      <th></th>\n",
       "      <th>Unnamed: 0</th>\n",
       "      <th>latitude</th>\n",
       "      <th>longitude</th>\n",
       "      <th>propertyTaxRate</th>\n",
       "      <th>hasAssociation</th>\n",
       "      <th>hasCooling</th>\n",
       "      <th>hasGarage</th>\n",
       "      <th>hasHeating</th>\n",
       "      <th>hasSpa</th>\n",
       "      <th>hasView</th>\n",
       "      <th>homeType</th>\n",
       "      <th>yearBuilt</th>\n",
       "      <th>price</th>\n",
       "      <th>numPriceChanges</th>\n",
       "      <th>saleDate</th>\n",
       "      <th>saleMonth</th>\n",
       "      <th>saleYear</th>\n",
       "      <th>latestPriceSource</th>\n",
       "      <th>numOfPhotos</th>\n",
       "      <th>numOfAccessibilityFeatures</th>\n",
       "      <th>numOfAppliances</th>\n",
       "      <th>numOfParkingFeatures</th>\n",
       "      <th>numOfPatioAndPorchFeatures</th>\n",
       "      <th>numOfSecurityFeatures</th>\n",
       "      <th>numOfWaterfrontFeatures</th>\n",
       "      <th>numOfWindowFeatures</th>\n",
       "      <th>numOfCommunityFeatures</th>\n",
       "      <th>lotSizeSqFt</th>\n",
       "      <th>livingAreaSqFt</th>\n",
       "      <th>numOfPrimarySchools</th>\n",
       "      <th>numOfElementarySchools</th>\n",
       "      <th>numOfMiddleSchools</th>\n",
       "      <th>numOfHighSchools</th>\n",
       "      <th>avgSchoolDistance</th>\n",
       "      <th>avgSchoolRating</th>\n",
       "      <th>avgSchoolSize</th>\n",
       "      <th>medianStudentsPerTeacher</th>\n",
       "      <th>numOfBathrooms</th>\n",
       "      <th>numOfBedrooms</th>\n",
       "      <th>numOfStories</th>\n",
       "      <th>age</th>\n",
       "      <th>value</th>\n",
       "      <th>ageCategory</th>\n",
       "      <th>zipcode</th>\n",
       "      <th>zipcode_median</th>\n",
       "    </tr>\n",
       "  </thead>\n",
       "  <tbody>\n",
       "    <tr>\n",
       "      <th>0</th>\n",
       "      <td>0</td>\n",
       "      <td>30.430632</td>\n",
       "      <td>-97.663078</td>\n",
       "      <td>1.98</td>\n",
       "      <td>True</td>\n",
       "      <td>True</td>\n",
       "      <td>True</td>\n",
       "      <td>True</td>\n",
       "      <td>False</td>\n",
       "      <td>False</td>\n",
       "      <td>Single Family</td>\n",
       "      <td>2012</td>\n",
       "      <td>305000</td>\n",
       "      <td>5</td>\n",
       "      <td>9/2/2019</td>\n",
       "      <td>9</td>\n",
       "      <td>2019</td>\n",
       "      <td>Coldwell Banker United, Realtors - South Austin</td>\n",
       "      <td>39</td>\n",
       "      <td>0</td>\n",
       "      <td>5</td>\n",
       "      <td>2</td>\n",
       "      <td>1</td>\n",
       "      <td>3</td>\n",
       "      <td>0</td>\n",
       "      <td>1</td>\n",
       "      <td>0</td>\n",
       "      <td>6011</td>\n",
       "      <td>2601</td>\n",
       "      <td>1</td>\n",
       "      <td>0</td>\n",
       "      <td>1</td>\n",
       "      <td>1</td>\n",
       "      <td>1.266667</td>\n",
       "      <td>2.666667</td>\n",
       "      <td>1063</td>\n",
       "      <td>14</td>\n",
       "      <td>3.0</td>\n",
       "      <td>4</td>\n",
       "      <td>2</td>\n",
       "      <td>9</td>\n",
       "      <td>Below Median</td>\n",
       "      <td>&lt;=10 Yrs</td>\n",
       "      <td>78660</td>\n",
       "      <td>289700.0</td>\n",
       "    </tr>\n",
       "    <tr>\n",
       "      <th>1</th>\n",
       "      <td>1</td>\n",
       "      <td>30.432672</td>\n",
       "      <td>-97.661697</td>\n",
       "      <td>1.98</td>\n",
       "      <td>True</td>\n",
       "      <td>True</td>\n",
       "      <td>True</td>\n",
       "      <td>True</td>\n",
       "      <td>False</td>\n",
       "      <td>False</td>\n",
       "      <td>Single Family</td>\n",
       "      <td>2013</td>\n",
       "      <td>295000</td>\n",
       "      <td>1</td>\n",
       "      <td>10/13/2020</td>\n",
       "      <td>10</td>\n",
       "      <td>2020</td>\n",
       "      <td>Agent Provided</td>\n",
       "      <td>29</td>\n",
       "      <td>0</td>\n",
       "      <td>1</td>\n",
       "      <td>2</td>\n",
       "      <td>0</td>\n",
       "      <td>0</td>\n",
       "      <td>0</td>\n",
       "      <td>0</td>\n",
       "      <td>0</td>\n",
       "      <td>6185</td>\n",
       "      <td>1768</td>\n",
       "      <td>1</td>\n",
       "      <td>0</td>\n",
       "      <td>1</td>\n",
       "      <td>1</td>\n",
       "      <td>1.400000</td>\n",
       "      <td>2.666667</td>\n",
       "      <td>1063</td>\n",
       "      <td>14</td>\n",
       "      <td>2.0</td>\n",
       "      <td>4</td>\n",
       "      <td>1</td>\n",
       "      <td>8</td>\n",
       "      <td>Below Median</td>\n",
       "      <td>&lt;=10 Yrs</td>\n",
       "      <td>78660</td>\n",
       "      <td>289700.0</td>\n",
       "    </tr>\n",
       "    <tr>\n",
       "      <th>2</th>\n",
       "      <td>2</td>\n",
       "      <td>30.409748</td>\n",
       "      <td>-97.639771</td>\n",
       "      <td>1.98</td>\n",
       "      <td>True</td>\n",
       "      <td>True</td>\n",
       "      <td>False</td>\n",
       "      <td>True</td>\n",
       "      <td>False</td>\n",
       "      <td>False</td>\n",
       "      <td>Single Family</td>\n",
       "      <td>2018</td>\n",
       "      <td>256125</td>\n",
       "      <td>1</td>\n",
       "      <td>7/31/2019</td>\n",
       "      <td>7</td>\n",
       "      <td>2019</td>\n",
       "      <td>Agent Provided</td>\n",
       "      <td>2</td>\n",
       "      <td>0</td>\n",
       "      <td>4</td>\n",
       "      <td>1</td>\n",
       "      <td>0</td>\n",
       "      <td>1</td>\n",
       "      <td>0</td>\n",
       "      <td>0</td>\n",
       "      <td>0</td>\n",
       "      <td>7840</td>\n",
       "      <td>1478</td>\n",
       "      <td>0</td>\n",
       "      <td>2</td>\n",
       "      <td>1</td>\n",
       "      <td>1</td>\n",
       "      <td>1.200000</td>\n",
       "      <td>3.000000</td>\n",
       "      <td>1108</td>\n",
       "      <td>14</td>\n",
       "      <td>2.0</td>\n",
       "      <td>3</td>\n",
       "      <td>1</td>\n",
       "      <td>3</td>\n",
       "      <td>Below Median</td>\n",
       "      <td>&lt;=10 Yrs</td>\n",
       "      <td>78660</td>\n",
       "      <td>289700.0</td>\n",
       "    </tr>\n",
       "    <tr>\n",
       "      <th>3</th>\n",
       "      <td>3</td>\n",
       "      <td>30.432112</td>\n",
       "      <td>-97.661659</td>\n",
       "      <td>1.98</td>\n",
       "      <td>True</td>\n",
       "      <td>True</td>\n",
       "      <td>True</td>\n",
       "      <td>True</td>\n",
       "      <td>False</td>\n",
       "      <td>False</td>\n",
       "      <td>Single Family</td>\n",
       "      <td>2013</td>\n",
       "      <td>240000</td>\n",
       "      <td>4</td>\n",
       "      <td>8/8/2018</td>\n",
       "      <td>8</td>\n",
       "      <td>2018</td>\n",
       "      <td>Agent Provided</td>\n",
       "      <td>9</td>\n",
       "      <td>0</td>\n",
       "      <td>0</td>\n",
       "      <td>2</td>\n",
       "      <td>0</td>\n",
       "      <td>0</td>\n",
       "      <td>0</td>\n",
       "      <td>0</td>\n",
       "      <td>0</td>\n",
       "      <td>6098</td>\n",
       "      <td>1678</td>\n",
       "      <td>1</td>\n",
       "      <td>0</td>\n",
       "      <td>1</td>\n",
       "      <td>1</td>\n",
       "      <td>1.400000</td>\n",
       "      <td>2.666667</td>\n",
       "      <td>1063</td>\n",
       "      <td>14</td>\n",
       "      <td>2.0</td>\n",
       "      <td>3</td>\n",
       "      <td>1</td>\n",
       "      <td>8</td>\n",
       "      <td>Below Median</td>\n",
       "      <td>&lt;=10 Yrs</td>\n",
       "      <td>78660</td>\n",
       "      <td>289700.0</td>\n",
       "    </tr>\n",
       "    <tr>\n",
       "      <th>4</th>\n",
       "      <td>4</td>\n",
       "      <td>30.437368</td>\n",
       "      <td>-97.656860</td>\n",
       "      <td>1.98</td>\n",
       "      <td>True</td>\n",
       "      <td>True</td>\n",
       "      <td>False</td>\n",
       "      <td>True</td>\n",
       "      <td>False</td>\n",
       "      <td>False</td>\n",
       "      <td>Single Family</td>\n",
       "      <td>2002</td>\n",
       "      <td>239900</td>\n",
       "      <td>3</td>\n",
       "      <td>10/31/2018</td>\n",
       "      <td>10</td>\n",
       "      <td>2018</td>\n",
       "      <td>Agent Provided</td>\n",
       "      <td>27</td>\n",
       "      <td>0</td>\n",
       "      <td>0</td>\n",
       "      <td>1</td>\n",
       "      <td>0</td>\n",
       "      <td>0</td>\n",
       "      <td>0</td>\n",
       "      <td>0</td>\n",
       "      <td>0</td>\n",
       "      <td>6708</td>\n",
       "      <td>2132</td>\n",
       "      <td>1</td>\n",
       "      <td>0</td>\n",
       "      <td>1</td>\n",
       "      <td>1</td>\n",
       "      <td>1.133333</td>\n",
       "      <td>4.000000</td>\n",
       "      <td>1223</td>\n",
       "      <td>14</td>\n",
       "      <td>3.0</td>\n",
       "      <td>3</td>\n",
       "      <td>2</td>\n",
       "      <td>19</td>\n",
       "      <td>Below Median</td>\n",
       "      <td>10-20 Yrs</td>\n",
       "      <td>78660</td>\n",
       "      <td>289700.0</td>\n",
       "    </tr>\n",
       "  </tbody>\n",
       "</table>\n",
       "</div>"
      ],
      "text/plain": [
       "   Unnamed: 0   latitude  longitude  propertyTaxRate  hasAssociation  \\\n",
       "0           0  30.430632 -97.663078             1.98            True   \n",
       "1           1  30.432672 -97.661697             1.98            True   \n",
       "2           2  30.409748 -97.639771             1.98            True   \n",
       "3           3  30.432112 -97.661659             1.98            True   \n",
       "4           4  30.437368 -97.656860             1.98            True   \n",
       "\n",
       "   hasCooling  hasGarage  hasHeating  hasSpa  hasView       homeType  \\\n",
       "0        True       True        True   False    False  Single Family   \n",
       "1        True       True        True   False    False  Single Family   \n",
       "2        True      False        True   False    False  Single Family   \n",
       "3        True       True        True   False    False  Single Family   \n",
       "4        True      False        True   False    False  Single Family   \n",
       "\n",
       "   yearBuilt   price  numPriceChanges    saleDate  saleMonth  saleYear  \\\n",
       "0       2012  305000                5    9/2/2019          9      2019   \n",
       "1       2013  295000                1  10/13/2020         10      2020   \n",
       "2       2018  256125                1   7/31/2019          7      2019   \n",
       "3       2013  240000                4    8/8/2018          8      2018   \n",
       "4       2002  239900                3  10/31/2018         10      2018   \n",
       "\n",
       "                                 latestPriceSource  numOfPhotos  \\\n",
       "0  Coldwell Banker United, Realtors - South Austin           39   \n",
       "1                                   Agent Provided           29   \n",
       "2                                   Agent Provided            2   \n",
       "3                                   Agent Provided            9   \n",
       "4                                   Agent Provided           27   \n",
       "\n",
       "   numOfAccessibilityFeatures  numOfAppliances  numOfParkingFeatures  \\\n",
       "0                           0                5                     2   \n",
       "1                           0                1                     2   \n",
       "2                           0                4                     1   \n",
       "3                           0                0                     2   \n",
       "4                           0                0                     1   \n",
       "\n",
       "   numOfPatioAndPorchFeatures  numOfSecurityFeatures  numOfWaterfrontFeatures  \\\n",
       "0                           1                      3                        0   \n",
       "1                           0                      0                        0   \n",
       "2                           0                      1                        0   \n",
       "3                           0                      0                        0   \n",
       "4                           0                      0                        0   \n",
       "\n",
       "   numOfWindowFeatures  numOfCommunityFeatures  lotSizeSqFt  livingAreaSqFt  \\\n",
       "0                    1                       0         6011            2601   \n",
       "1                    0                       0         6185            1768   \n",
       "2                    0                       0         7840            1478   \n",
       "3                    0                       0         6098            1678   \n",
       "4                    0                       0         6708            2132   \n",
       "\n",
       "   numOfPrimarySchools  numOfElementarySchools  numOfMiddleSchools  \\\n",
       "0                    1                       0                   1   \n",
       "1                    1                       0                   1   \n",
       "2                    0                       2                   1   \n",
       "3                    1                       0                   1   \n",
       "4                    1                       0                   1   \n",
       "\n",
       "   numOfHighSchools  avgSchoolDistance  avgSchoolRating  avgSchoolSize  \\\n",
       "0                 1           1.266667         2.666667           1063   \n",
       "1                 1           1.400000         2.666667           1063   \n",
       "2                 1           1.200000         3.000000           1108   \n",
       "3                 1           1.400000         2.666667           1063   \n",
       "4                 1           1.133333         4.000000           1223   \n",
       "\n",
       "   medianStudentsPerTeacher  numOfBathrooms  numOfBedrooms  numOfStories  age  \\\n",
       "0                        14             3.0              4             2    9   \n",
       "1                        14             2.0              4             1    8   \n",
       "2                        14             2.0              3             1    3   \n",
       "3                        14             2.0              3             1    8   \n",
       "4                        14             3.0              3             2   19   \n",
       "\n",
       "          value ageCategory  zipcode  zipcode_median  \n",
       "0  Below Median    <=10 Yrs    78660        289700.0  \n",
       "1  Below Median    <=10 Yrs    78660        289700.0  \n",
       "2  Below Median    <=10 Yrs    78660        289700.0  \n",
       "3  Below Median    <=10 Yrs    78660        289700.0  \n",
       "4  Below Median   10-20 Yrs    78660        289700.0  "
      ]
     },
     "execution_count": 7,
     "metadata": {},
     "output_type": "execute_result"
    }
   ],
   "source": [
    "# Checking headers\n",
    "\n",
    "pd.options.display.max_columns = None\n",
    "df.head()"
   ]
  },
  {
   "cell_type": "code",
   "execution_count": 8,
   "id": "55b01e76",
   "metadata": {},
   "outputs": [],
   "source": [
    "# Dropping 'Unnamed:0' column\n",
    "\n",
    "df = df.drop(columns = ['Unnamed: 0'])"
   ]
  },
  {
   "cell_type": "code",
   "execution_count": 9,
   "id": "65c25a77",
   "metadata": {},
   "outputs": [
    {
     "data": {
      "text/html": [
       "<div>\n",
       "<style scoped>\n",
       "    .dataframe tbody tr th:only-of-type {\n",
       "        vertical-align: middle;\n",
       "    }\n",
       "\n",
       "    .dataframe tbody tr th {\n",
       "        vertical-align: top;\n",
       "    }\n",
       "\n",
       "    .dataframe thead th {\n",
       "        text-align: right;\n",
       "    }\n",
       "</style>\n",
       "<table border=\"1\" class=\"dataframe\">\n",
       "  <thead>\n",
       "    <tr style=\"text-align: right;\">\n",
       "      <th></th>\n",
       "      <th>latitude</th>\n",
       "      <th>longitude</th>\n",
       "      <th>propertyTaxRate</th>\n",
       "      <th>hasAssociation</th>\n",
       "      <th>hasCooling</th>\n",
       "      <th>hasGarage</th>\n",
       "      <th>hasHeating</th>\n",
       "      <th>hasSpa</th>\n",
       "      <th>hasView</th>\n",
       "      <th>homeType</th>\n",
       "      <th>yearBuilt</th>\n",
       "      <th>price</th>\n",
       "      <th>numPriceChanges</th>\n",
       "      <th>saleDate</th>\n",
       "      <th>saleMonth</th>\n",
       "      <th>saleYear</th>\n",
       "      <th>latestPriceSource</th>\n",
       "      <th>numOfPhotos</th>\n",
       "      <th>numOfAccessibilityFeatures</th>\n",
       "      <th>numOfAppliances</th>\n",
       "      <th>numOfParkingFeatures</th>\n",
       "      <th>numOfPatioAndPorchFeatures</th>\n",
       "      <th>numOfSecurityFeatures</th>\n",
       "      <th>numOfWaterfrontFeatures</th>\n",
       "      <th>numOfWindowFeatures</th>\n",
       "      <th>numOfCommunityFeatures</th>\n",
       "      <th>lotSizeSqFt</th>\n",
       "      <th>livingAreaSqFt</th>\n",
       "      <th>numOfPrimarySchools</th>\n",
       "      <th>numOfElementarySchools</th>\n",
       "      <th>numOfMiddleSchools</th>\n",
       "      <th>numOfHighSchools</th>\n",
       "      <th>avgSchoolDistance</th>\n",
       "      <th>avgSchoolRating</th>\n",
       "      <th>avgSchoolSize</th>\n",
       "      <th>medianStudentsPerTeacher</th>\n",
       "      <th>numOfBathrooms</th>\n",
       "      <th>numOfBedrooms</th>\n",
       "      <th>numOfStories</th>\n",
       "      <th>age</th>\n",
       "      <th>value</th>\n",
       "      <th>ageCategory</th>\n",
       "      <th>zipcode</th>\n",
       "      <th>zipcode_median</th>\n",
       "    </tr>\n",
       "  </thead>\n",
       "  <tbody>\n",
       "    <tr>\n",
       "      <th>0</th>\n",
       "      <td>30.430632</td>\n",
       "      <td>-97.663078</td>\n",
       "      <td>1.98</td>\n",
       "      <td>True</td>\n",
       "      <td>True</td>\n",
       "      <td>True</td>\n",
       "      <td>True</td>\n",
       "      <td>False</td>\n",
       "      <td>False</td>\n",
       "      <td>Single Family</td>\n",
       "      <td>2012</td>\n",
       "      <td>305000</td>\n",
       "      <td>5</td>\n",
       "      <td>9/2/2019</td>\n",
       "      <td>9</td>\n",
       "      <td>2019</td>\n",
       "      <td>Coldwell Banker United, Realtors - South Austin</td>\n",
       "      <td>39</td>\n",
       "      <td>0</td>\n",
       "      <td>5</td>\n",
       "      <td>2</td>\n",
       "      <td>1</td>\n",
       "      <td>3</td>\n",
       "      <td>0</td>\n",
       "      <td>1</td>\n",
       "      <td>0</td>\n",
       "      <td>6011</td>\n",
       "      <td>2601</td>\n",
       "      <td>1</td>\n",
       "      <td>0</td>\n",
       "      <td>1</td>\n",
       "      <td>1</td>\n",
       "      <td>1.266667</td>\n",
       "      <td>2.666667</td>\n",
       "      <td>1063</td>\n",
       "      <td>14</td>\n",
       "      <td>3.0</td>\n",
       "      <td>4</td>\n",
       "      <td>2</td>\n",
       "      <td>9</td>\n",
       "      <td>Below Median</td>\n",
       "      <td>&lt;=10 Yrs</td>\n",
       "      <td>78660</td>\n",
       "      <td>289700.0</td>\n",
       "    </tr>\n",
       "    <tr>\n",
       "      <th>1</th>\n",
       "      <td>30.432672</td>\n",
       "      <td>-97.661697</td>\n",
       "      <td>1.98</td>\n",
       "      <td>True</td>\n",
       "      <td>True</td>\n",
       "      <td>True</td>\n",
       "      <td>True</td>\n",
       "      <td>False</td>\n",
       "      <td>False</td>\n",
       "      <td>Single Family</td>\n",
       "      <td>2013</td>\n",
       "      <td>295000</td>\n",
       "      <td>1</td>\n",
       "      <td>10/13/2020</td>\n",
       "      <td>10</td>\n",
       "      <td>2020</td>\n",
       "      <td>Agent Provided</td>\n",
       "      <td>29</td>\n",
       "      <td>0</td>\n",
       "      <td>1</td>\n",
       "      <td>2</td>\n",
       "      <td>0</td>\n",
       "      <td>0</td>\n",
       "      <td>0</td>\n",
       "      <td>0</td>\n",
       "      <td>0</td>\n",
       "      <td>6185</td>\n",
       "      <td>1768</td>\n",
       "      <td>1</td>\n",
       "      <td>0</td>\n",
       "      <td>1</td>\n",
       "      <td>1</td>\n",
       "      <td>1.400000</td>\n",
       "      <td>2.666667</td>\n",
       "      <td>1063</td>\n",
       "      <td>14</td>\n",
       "      <td>2.0</td>\n",
       "      <td>4</td>\n",
       "      <td>1</td>\n",
       "      <td>8</td>\n",
       "      <td>Below Median</td>\n",
       "      <td>&lt;=10 Yrs</td>\n",
       "      <td>78660</td>\n",
       "      <td>289700.0</td>\n",
       "    </tr>\n",
       "    <tr>\n",
       "      <th>2</th>\n",
       "      <td>30.409748</td>\n",
       "      <td>-97.639771</td>\n",
       "      <td>1.98</td>\n",
       "      <td>True</td>\n",
       "      <td>True</td>\n",
       "      <td>False</td>\n",
       "      <td>True</td>\n",
       "      <td>False</td>\n",
       "      <td>False</td>\n",
       "      <td>Single Family</td>\n",
       "      <td>2018</td>\n",
       "      <td>256125</td>\n",
       "      <td>1</td>\n",
       "      <td>7/31/2019</td>\n",
       "      <td>7</td>\n",
       "      <td>2019</td>\n",
       "      <td>Agent Provided</td>\n",
       "      <td>2</td>\n",
       "      <td>0</td>\n",
       "      <td>4</td>\n",
       "      <td>1</td>\n",
       "      <td>0</td>\n",
       "      <td>1</td>\n",
       "      <td>0</td>\n",
       "      <td>0</td>\n",
       "      <td>0</td>\n",
       "      <td>7840</td>\n",
       "      <td>1478</td>\n",
       "      <td>0</td>\n",
       "      <td>2</td>\n",
       "      <td>1</td>\n",
       "      <td>1</td>\n",
       "      <td>1.200000</td>\n",
       "      <td>3.000000</td>\n",
       "      <td>1108</td>\n",
       "      <td>14</td>\n",
       "      <td>2.0</td>\n",
       "      <td>3</td>\n",
       "      <td>1</td>\n",
       "      <td>3</td>\n",
       "      <td>Below Median</td>\n",
       "      <td>&lt;=10 Yrs</td>\n",
       "      <td>78660</td>\n",
       "      <td>289700.0</td>\n",
       "    </tr>\n",
       "    <tr>\n",
       "      <th>3</th>\n",
       "      <td>30.432112</td>\n",
       "      <td>-97.661659</td>\n",
       "      <td>1.98</td>\n",
       "      <td>True</td>\n",
       "      <td>True</td>\n",
       "      <td>True</td>\n",
       "      <td>True</td>\n",
       "      <td>False</td>\n",
       "      <td>False</td>\n",
       "      <td>Single Family</td>\n",
       "      <td>2013</td>\n",
       "      <td>240000</td>\n",
       "      <td>4</td>\n",
       "      <td>8/8/2018</td>\n",
       "      <td>8</td>\n",
       "      <td>2018</td>\n",
       "      <td>Agent Provided</td>\n",
       "      <td>9</td>\n",
       "      <td>0</td>\n",
       "      <td>0</td>\n",
       "      <td>2</td>\n",
       "      <td>0</td>\n",
       "      <td>0</td>\n",
       "      <td>0</td>\n",
       "      <td>0</td>\n",
       "      <td>0</td>\n",
       "      <td>6098</td>\n",
       "      <td>1678</td>\n",
       "      <td>1</td>\n",
       "      <td>0</td>\n",
       "      <td>1</td>\n",
       "      <td>1</td>\n",
       "      <td>1.400000</td>\n",
       "      <td>2.666667</td>\n",
       "      <td>1063</td>\n",
       "      <td>14</td>\n",
       "      <td>2.0</td>\n",
       "      <td>3</td>\n",
       "      <td>1</td>\n",
       "      <td>8</td>\n",
       "      <td>Below Median</td>\n",
       "      <td>&lt;=10 Yrs</td>\n",
       "      <td>78660</td>\n",
       "      <td>289700.0</td>\n",
       "    </tr>\n",
       "    <tr>\n",
       "      <th>4</th>\n",
       "      <td>30.437368</td>\n",
       "      <td>-97.656860</td>\n",
       "      <td>1.98</td>\n",
       "      <td>True</td>\n",
       "      <td>True</td>\n",
       "      <td>False</td>\n",
       "      <td>True</td>\n",
       "      <td>False</td>\n",
       "      <td>False</td>\n",
       "      <td>Single Family</td>\n",
       "      <td>2002</td>\n",
       "      <td>239900</td>\n",
       "      <td>3</td>\n",
       "      <td>10/31/2018</td>\n",
       "      <td>10</td>\n",
       "      <td>2018</td>\n",
       "      <td>Agent Provided</td>\n",
       "      <td>27</td>\n",
       "      <td>0</td>\n",
       "      <td>0</td>\n",
       "      <td>1</td>\n",
       "      <td>0</td>\n",
       "      <td>0</td>\n",
       "      <td>0</td>\n",
       "      <td>0</td>\n",
       "      <td>0</td>\n",
       "      <td>6708</td>\n",
       "      <td>2132</td>\n",
       "      <td>1</td>\n",
       "      <td>0</td>\n",
       "      <td>1</td>\n",
       "      <td>1</td>\n",
       "      <td>1.133333</td>\n",
       "      <td>4.000000</td>\n",
       "      <td>1223</td>\n",
       "      <td>14</td>\n",
       "      <td>3.0</td>\n",
       "      <td>3</td>\n",
       "      <td>2</td>\n",
       "      <td>19</td>\n",
       "      <td>Below Median</td>\n",
       "      <td>10-20 Yrs</td>\n",
       "      <td>78660</td>\n",
       "      <td>289700.0</td>\n",
       "    </tr>\n",
       "  </tbody>\n",
       "</table>\n",
       "</div>"
      ],
      "text/plain": [
       "    latitude  longitude  propertyTaxRate  hasAssociation  hasCooling  \\\n",
       "0  30.430632 -97.663078             1.98            True        True   \n",
       "1  30.432672 -97.661697             1.98            True        True   \n",
       "2  30.409748 -97.639771             1.98            True        True   \n",
       "3  30.432112 -97.661659             1.98            True        True   \n",
       "4  30.437368 -97.656860             1.98            True        True   \n",
       "\n",
       "   hasGarage  hasHeating  hasSpa  hasView       homeType  yearBuilt   price  \\\n",
       "0       True        True   False    False  Single Family       2012  305000   \n",
       "1       True        True   False    False  Single Family       2013  295000   \n",
       "2      False        True   False    False  Single Family       2018  256125   \n",
       "3       True        True   False    False  Single Family       2013  240000   \n",
       "4      False        True   False    False  Single Family       2002  239900   \n",
       "\n",
       "   numPriceChanges    saleDate  saleMonth  saleYear  \\\n",
       "0                5    9/2/2019          9      2019   \n",
       "1                1  10/13/2020         10      2020   \n",
       "2                1   7/31/2019          7      2019   \n",
       "3                4    8/8/2018          8      2018   \n",
       "4                3  10/31/2018         10      2018   \n",
       "\n",
       "                                 latestPriceSource  numOfPhotos  \\\n",
       "0  Coldwell Banker United, Realtors - South Austin           39   \n",
       "1                                   Agent Provided           29   \n",
       "2                                   Agent Provided            2   \n",
       "3                                   Agent Provided            9   \n",
       "4                                   Agent Provided           27   \n",
       "\n",
       "   numOfAccessibilityFeatures  numOfAppliances  numOfParkingFeatures  \\\n",
       "0                           0                5                     2   \n",
       "1                           0                1                     2   \n",
       "2                           0                4                     1   \n",
       "3                           0                0                     2   \n",
       "4                           0                0                     1   \n",
       "\n",
       "   numOfPatioAndPorchFeatures  numOfSecurityFeatures  numOfWaterfrontFeatures  \\\n",
       "0                           1                      3                        0   \n",
       "1                           0                      0                        0   \n",
       "2                           0                      1                        0   \n",
       "3                           0                      0                        0   \n",
       "4                           0                      0                        0   \n",
       "\n",
       "   numOfWindowFeatures  numOfCommunityFeatures  lotSizeSqFt  livingAreaSqFt  \\\n",
       "0                    1                       0         6011            2601   \n",
       "1                    0                       0         6185            1768   \n",
       "2                    0                       0         7840            1478   \n",
       "3                    0                       0         6098            1678   \n",
       "4                    0                       0         6708            2132   \n",
       "\n",
       "   numOfPrimarySchools  numOfElementarySchools  numOfMiddleSchools  \\\n",
       "0                    1                       0                   1   \n",
       "1                    1                       0                   1   \n",
       "2                    0                       2                   1   \n",
       "3                    1                       0                   1   \n",
       "4                    1                       0                   1   \n",
       "\n",
       "   numOfHighSchools  avgSchoolDistance  avgSchoolRating  avgSchoolSize  \\\n",
       "0                 1           1.266667         2.666667           1063   \n",
       "1                 1           1.400000         2.666667           1063   \n",
       "2                 1           1.200000         3.000000           1108   \n",
       "3                 1           1.400000         2.666667           1063   \n",
       "4                 1           1.133333         4.000000           1223   \n",
       "\n",
       "   medianStudentsPerTeacher  numOfBathrooms  numOfBedrooms  numOfStories  age  \\\n",
       "0                        14             3.0              4             2    9   \n",
       "1                        14             2.0              4             1    8   \n",
       "2                        14             2.0              3             1    3   \n",
       "3                        14             2.0              3             1    8   \n",
       "4                        14             3.0              3             2   19   \n",
       "\n",
       "          value ageCategory  zipcode  zipcode_median  \n",
       "0  Below Median    <=10 Yrs    78660        289700.0  \n",
       "1  Below Median    <=10 Yrs    78660        289700.0  \n",
       "2  Below Median    <=10 Yrs    78660        289700.0  \n",
       "3  Below Median    <=10 Yrs    78660        289700.0  \n",
       "4  Below Median   10-20 Yrs    78660        289700.0  "
      ]
     },
     "execution_count": 9,
     "metadata": {},
     "output_type": "execute_result"
    }
   ],
   "source": [
    "# Double checking headers\n",
    "\n",
    "df.head()"
   ]
  },
  {
   "cell_type": "code",
   "execution_count": 10,
   "id": "b5a773a5",
   "metadata": {},
   "outputs": [
    {
     "data": {
      "text/plain": [
       "(15024, 44)"
      ]
     },
     "execution_count": 10,
     "metadata": {},
     "output_type": "execute_result"
    }
   ],
   "source": [
    "# Checking shape\n",
    "\n",
    "df.shape"
   ]
  },
  {
   "cell_type": "markdown",
   "id": "92bc8244",
   "metadata": {},
   "source": [
    "# 04. Data Cleaning"
   ]
  },
  {
   "cell_type": "markdown",
   "id": "87c79673",
   "metadata": {},
   "source": [
    "#### Data cleaning was conducted in prior exercises, but a double-check will be done"
   ]
  },
  {
   "cell_type": "markdown",
   "id": "c746efc9",
   "metadata": {},
   "source": [
    "### a. Missing Values"
   ]
  },
  {
   "cell_type": "code",
   "execution_count": 11,
   "id": "cd89dec3",
   "metadata": {},
   "outputs": [
    {
     "data": {
      "text/plain": [
       "latitude                      0\n",
       "longitude                     0\n",
       "propertyTaxRate               0\n",
       "hasAssociation                0\n",
       "hasCooling                    0\n",
       "hasGarage                     0\n",
       "hasHeating                    0\n",
       "hasSpa                        0\n",
       "hasView                       0\n",
       "homeType                      0\n",
       "yearBuilt                     0\n",
       "price                         0\n",
       "numPriceChanges               0\n",
       "saleDate                      0\n",
       "saleMonth                     0\n",
       "saleYear                      0\n",
       "latestPriceSource             0\n",
       "numOfPhotos                   0\n",
       "numOfAccessibilityFeatures    0\n",
       "numOfAppliances               0\n",
       "numOfParkingFeatures          0\n",
       "numOfPatioAndPorchFeatures    0\n",
       "numOfSecurityFeatures         0\n",
       "numOfWaterfrontFeatures       0\n",
       "numOfWindowFeatures           0\n",
       "numOfCommunityFeatures        0\n",
       "lotSizeSqFt                   0\n",
       "livingAreaSqFt                0\n",
       "numOfPrimarySchools           0\n",
       "numOfElementarySchools        0\n",
       "numOfMiddleSchools            0\n",
       "numOfHighSchools              0\n",
       "avgSchoolDistance             0\n",
       "avgSchoolRating               0\n",
       "avgSchoolSize                 0\n",
       "medianStudentsPerTeacher      0\n",
       "numOfBathrooms                0\n",
       "numOfBedrooms                 0\n",
       "numOfStories                  0\n",
       "age                           0\n",
       "value                         0\n",
       "ageCategory                   0\n",
       "zipcode                       0\n",
       "zipcode_median                0\n",
       "dtype: int64"
      ]
     },
     "execution_count": 11,
     "metadata": {},
     "output_type": "execute_result"
    }
   ],
   "source": [
    "# Checking for missing values\n",
    "\n",
    "df.isnull().sum()"
   ]
  },
  {
   "cell_type": "markdown",
   "id": "79a523db",
   "metadata": {},
   "source": [
    "#### No missing values to handle"
   ]
  },
  {
   "cell_type": "markdown",
   "id": "8728eaf0",
   "metadata": {},
   "source": [
    "### b. Duplicates"
   ]
  },
  {
   "cell_type": "code",
   "execution_count": 12,
   "id": "665c8640",
   "metadata": {},
   "outputs": [
    {
     "data": {
      "text/html": [
       "<div>\n",
       "<style scoped>\n",
       "    .dataframe tbody tr th:only-of-type {\n",
       "        vertical-align: middle;\n",
       "    }\n",
       "\n",
       "    .dataframe tbody tr th {\n",
       "        vertical-align: top;\n",
       "    }\n",
       "\n",
       "    .dataframe thead th {\n",
       "        text-align: right;\n",
       "    }\n",
       "</style>\n",
       "<table border=\"1\" class=\"dataframe\">\n",
       "  <thead>\n",
       "    <tr style=\"text-align: right;\">\n",
       "      <th></th>\n",
       "      <th>latitude</th>\n",
       "      <th>longitude</th>\n",
       "      <th>propertyTaxRate</th>\n",
       "      <th>hasAssociation</th>\n",
       "      <th>hasCooling</th>\n",
       "      <th>hasGarage</th>\n",
       "      <th>hasHeating</th>\n",
       "      <th>hasSpa</th>\n",
       "      <th>hasView</th>\n",
       "      <th>homeType</th>\n",
       "      <th>yearBuilt</th>\n",
       "      <th>price</th>\n",
       "      <th>numPriceChanges</th>\n",
       "      <th>saleDate</th>\n",
       "      <th>saleMonth</th>\n",
       "      <th>saleYear</th>\n",
       "      <th>latestPriceSource</th>\n",
       "      <th>numOfPhotos</th>\n",
       "      <th>numOfAccessibilityFeatures</th>\n",
       "      <th>numOfAppliances</th>\n",
       "      <th>numOfParkingFeatures</th>\n",
       "      <th>numOfPatioAndPorchFeatures</th>\n",
       "      <th>numOfSecurityFeatures</th>\n",
       "      <th>numOfWaterfrontFeatures</th>\n",
       "      <th>numOfWindowFeatures</th>\n",
       "      <th>numOfCommunityFeatures</th>\n",
       "      <th>lotSizeSqFt</th>\n",
       "      <th>livingAreaSqFt</th>\n",
       "      <th>numOfPrimarySchools</th>\n",
       "      <th>numOfElementarySchools</th>\n",
       "      <th>numOfMiddleSchools</th>\n",
       "      <th>numOfHighSchools</th>\n",
       "      <th>avgSchoolDistance</th>\n",
       "      <th>avgSchoolRating</th>\n",
       "      <th>avgSchoolSize</th>\n",
       "      <th>medianStudentsPerTeacher</th>\n",
       "      <th>numOfBathrooms</th>\n",
       "      <th>numOfBedrooms</th>\n",
       "      <th>numOfStories</th>\n",
       "      <th>age</th>\n",
       "      <th>value</th>\n",
       "      <th>ageCategory</th>\n",
       "      <th>zipcode</th>\n",
       "      <th>zipcode_median</th>\n",
       "    </tr>\n",
       "  </thead>\n",
       "  <tbody>\n",
       "  </tbody>\n",
       "</table>\n",
       "</div>"
      ],
      "text/plain": [
       "Empty DataFrame\n",
       "Columns: [latitude, longitude, propertyTaxRate, hasAssociation, hasCooling, hasGarage, hasHeating, hasSpa, hasView, homeType, yearBuilt, price, numPriceChanges, saleDate, saleMonth, saleYear, latestPriceSource, numOfPhotos, numOfAccessibilityFeatures, numOfAppliances, numOfParkingFeatures, numOfPatioAndPorchFeatures, numOfSecurityFeatures, numOfWaterfrontFeatures, numOfWindowFeatures, numOfCommunityFeatures, lotSizeSqFt, livingAreaSqFt, numOfPrimarySchools, numOfElementarySchools, numOfMiddleSchools, numOfHighSchools, avgSchoolDistance, avgSchoolRating, avgSchoolSize, medianStudentsPerTeacher, numOfBathrooms, numOfBedrooms, numOfStories, age, value, ageCategory, zipcode, zipcode_median]\n",
       "Index: []"
      ]
     },
     "execution_count": 12,
     "metadata": {},
     "output_type": "execute_result"
    }
   ],
   "source": [
    "# Checking for duplicates\n",
    "\n",
    "df[df.duplicated()]"
   ]
  },
  {
   "cell_type": "markdown",
   "id": "6acf1ddf",
   "metadata": {},
   "source": [
    "#### No duplicates to handle"
   ]
  },
  {
   "cell_type": "markdown",
   "id": "a71a2f18",
   "metadata": {},
   "source": [
    "### c. Mixed Data Type"
   ]
  },
  {
   "cell_type": "code",
   "execution_count": 13,
   "id": "deae1c25",
   "metadata": {},
   "outputs": [],
   "source": [
    "# Checking for columns with mixed data\n",
    "\n",
    "for col in df.columns.tolist():\n",
    "  weird = (df[[col]].applymap(type) != df[[col]].iloc[0].apply(type)).any(axis = 1)\n",
    "  if len (df[weird]) > 0:\n",
    "    print (col)"
   ]
  },
  {
   "cell_type": "markdown",
   "id": "1e60e70a",
   "metadata": {},
   "source": [
    "#### No mixed data types found"
   ]
  },
  {
   "cell_type": "markdown",
   "id": "4f2e3afc",
   "metadata": {},
   "source": [
    "### d. Extreme Values"
   ]
  },
  {
   "cell_type": "code",
   "execution_count": 14,
   "id": "7edcc114",
   "metadata": {},
   "outputs": [
    {
     "name": "stderr",
     "output_type": "stream",
     "text": [
      "C:\\Users\\SD.DESKTOP-45BHU58\\anaconda3\\lib\\site-packages\\seaborn\\distributions.py:2619: FutureWarning: `distplot` is a deprecated function and will be removed in a future version. Please adapt your code to use either `displot` (a figure-level function with similar flexibility) or `histplot` (an axes-level function for histograms).\n",
      "  warnings.warn(msg, FutureWarning)\n"
     ]
    },
    {
     "data": {
      "text/plain": [
       "<AxesSubplot:xlabel='livingAreaSqFt', ylabel='Density'>"
      ]
     },
     "execution_count": 14,
     "metadata": {},
     "output_type": "execute_result"
    },
    {
     "data": {
      "image/png": "[encoded data removed]",
      "text/plain": [
       "<Figure size 432x288 with 1 Axes>"
      ]
     },
     "metadata": {
      "needs_background": "light"
     },
     "output_type": "display_data"
    }
   ],
   "source": [
    "# Showing extreme values for 'livingAreaSqFt'\n",
    "\n",
    "sns.distplot(df['livingAreaSqFt'], bins=25)"
   ]
  },
  {
   "cell_type": "code",
   "execution_count": 15,
   "id": "7fdcb413",
   "metadata": {},
   "outputs": [
    {
     "name": "stderr",
     "output_type": "stream",
     "text": [
      "C:\\Users\\SD.DESKTOP-45BHU58\\anaconda3\\lib\\site-packages\\seaborn\\distributions.py:2619: FutureWarning: `distplot` is a deprecated function and will be removed in a future version. Please adapt your code to use either `displot` (a figure-level function with similar flexibility) or `histplot` (an axes-level function for histograms).\n",
      "  warnings.warn(msg, FutureWarning)\n"
     ]
    },
    {
     "data": {
      "text/plain": [
       "<AxesSubplot:xlabel='price', ylabel='Density'>"
      ]
     },
     "execution_count": 15,
     "metadata": {},
     "output_type": "execute_result"
    },
    {
     "data": {
      "image/png": "[encoded data removed]",
      "text/plain": [
       "<Figure size 432x288 with 1 Axes>"
      ]
     },
     "metadata": {
      "needs_background": "light"
     },
     "output_type": "display_data"
    }
   ],
   "source": [
    "# Showing extreme values for 'price'\n",
    "\n",
    "sns.distplot(df['price'], bins=25)"
   ]
  },
  {
   "cell_type": "code",
   "execution_count": 16,
   "id": "c5bbd639",
   "metadata": {},
   "outputs": [
    {
     "data": {
      "text/html": [
       "<div>\n",
       "<style scoped>\n",
       "    .dataframe tbody tr th:only-of-type {\n",
       "        vertical-align: middle;\n",
       "    }\n",
       "\n",
       "    .dataframe tbody tr th {\n",
       "        vertical-align: top;\n",
       "    }\n",
       "\n",
       "    .dataframe thead th {\n",
       "        text-align: right;\n",
       "    }\n",
       "</style>\n",
       "<table border=\"1\" class=\"dataframe\">\n",
       "  <thead>\n",
       "    <tr style=\"text-align: right;\">\n",
       "      <th></th>\n",
       "      <th>livingAreaSqFt</th>\n",
       "      <th>price</th>\n",
       "    </tr>\n",
       "  </thead>\n",
       "  <tbody>\n",
       "    <tr>\n",
       "      <th>count</th>\n",
       "      <td>15024.000000</td>\n",
       "      <td>1.502400e+04</td>\n",
       "    </tr>\n",
       "    <tr>\n",
       "      <th>mean</th>\n",
       "      <td>2196.415402</td>\n",
       "      <td>5.113831e+05</td>\n",
       "    </tr>\n",
       "    <tr>\n",
       "      <th>std</th>\n",
       "      <td>1024.487034</td>\n",
       "      <td>4.406076e+05</td>\n",
       "    </tr>\n",
       "    <tr>\n",
       "      <th>min</th>\n",
       "      <td>300.000000</td>\n",
       "      <td>5.500000e+03</td>\n",
       "    </tr>\n",
       "    <tr>\n",
       "      <th>25%</th>\n",
       "      <td>1485.000000</td>\n",
       "      <td>3.090000e+05</td>\n",
       "    </tr>\n",
       "    <tr>\n",
       "      <th>50%</th>\n",
       "      <td>1975.000000</td>\n",
       "      <td>4.050000e+05</td>\n",
       "    </tr>\n",
       "    <tr>\n",
       "      <th>75%</th>\n",
       "      <td>2686.250000</td>\n",
       "      <td>5.749990e+05</td>\n",
       "    </tr>\n",
       "    <tr>\n",
       "      <th>max</th>\n",
       "      <td>15394.000000</td>\n",
       "      <td>1.350000e+07</td>\n",
       "    </tr>\n",
       "  </tbody>\n",
       "</table>\n",
       "</div>"
      ],
      "text/plain": [
       "       livingAreaSqFt         price\n",
       "count    15024.000000  1.502400e+04\n",
       "mean      2196.415402  5.113831e+05\n",
       "std       1024.487034  4.406076e+05\n",
       "min        300.000000  5.500000e+03\n",
       "25%       1485.000000  3.090000e+05\n",
       "50%       1975.000000  4.050000e+05\n",
       "75%       2686.250000  5.749990e+05\n",
       "max      15394.000000  1.350000e+07"
      ]
     },
     "execution_count": 16,
     "metadata": {},
     "output_type": "execute_result"
    }
   ],
   "source": [
    "# Conducting descriptive analysis of the two variables: price & livingAreaSqFt\n",
    "\n",
    "df[['livingAreaSqFt', 'price']].describe()"
   ]
  },
  {
   "cell_type": "markdown",
   "id": "d9eb2f80",
   "metadata": {},
   "source": [
    "# 05. Regression Analysis: Data Prep"
   ]
  },
  {
   "cell_type": "code",
   "execution_count": 17,
   "id": "c11923b5",
   "metadata": {},
   "outputs": [
    {
     "data": {
      "image/png": "[encoded data removed]",
      "text/plain": [
       "<Figure size 432x288 with 1 Axes>"
      ]
     },
     "metadata": {
      "needs_background": "light"
     },
     "output_type": "display_data"
    }
   ],
   "source": [
    "# Creating a scatterplot via matplotlib to see how the two variables plot against each other\n",
    "\n",
    "df.plot(x = 'livingAreaSqFt', y='price',style='o') # The style option creates a scatterplot; without it, we only have lines.\n",
    "plt.title('Living Area Sqft vs. Price')  \n",
    "plt.xlabel('Living Area Sqft')  \n",
    "plt.ylabel('Price')  \n",
    "plt.show()"
   ]
  },
  {
   "cell_type": "code",
   "execution_count": 18,
   "id": "f4482d9b",
   "metadata": {},
   "outputs": [],
   "source": [
    "# Reshaping variables into NumPy arrays and putting them into separate objects\n",
    "\n",
    "X = df['livingAreaSqFt'].values.reshape(-1,1)\n",
    "y = df['price'].values.reshape(-1,1)"
   ]
  },
  {
   "cell_type": "code",
   "execution_count": 19,
   "id": "da4b9858",
   "metadata": {},
   "outputs": [
    {
     "data": {
      "text/plain": [
       "array([[2601],\n",
       "       [1768],\n",
       "       [1478],\n",
       "       ...,\n",
       "       [1524],\n",
       "       [6068],\n",
       "       [ 720]], dtype=int64)"
      ]
     },
     "execution_count": 19,
     "metadata": {},
     "output_type": "execute_result"
    }
   ],
   "source": [
    "X"
   ]
  },
  {
   "cell_type": "code",
   "execution_count": 20,
   "id": "d33ce3f9",
   "metadata": {},
   "outputs": [
    {
     "data": {
      "text/plain": [
       "array([[305000],\n",
       "       [295000],\n",
       "       [256125],\n",
       "       ...,\n",
       "       [875000],\n",
       "       [420000],\n",
       "       [374900]], dtype=int64)"
      ]
     },
     "execution_count": 20,
     "metadata": {},
     "output_type": "execute_result"
    }
   ],
   "source": [
    "y"
   ]
  },
  {
   "cell_type": "code",
   "execution_count": 21,
   "id": "2bc39919",
   "metadata": {},
   "outputs": [],
   "source": [
    "# Splitting the data into a training set and a test set\n",
    "\n",
    "X_train, X_test, y_train, y_test = train_test_split(X, y, test_size=0.3, random_state=0)"
   ]
  },
  {
   "cell_type": "markdown",
   "id": "5aa1d915",
   "metadata": {},
   "source": [
    "# 06. Regression Analysis"
   ]
  },
  {
   "cell_type": "code",
   "execution_count": 22,
   "id": "c5753637",
   "metadata": {},
   "outputs": [],
   "source": [
    "# Creating a regression object\n",
    "\n",
    "regression = LinearRegression()  # This is the regression object, which will be fit onto the training set"
   ]
  },
  {
   "cell_type": "code",
   "execution_count": 23,
   "id": "e5860ab8",
   "metadata": {},
   "outputs": [
    {
     "data": {
      "text/plain": [
       "LinearRegression()"
      ]
     },
     "execution_count": 23,
     "metadata": {},
     "output_type": "execute_result"
    }
   ],
   "source": [
    "# Fitting the regression object onto the training set\n",
    "\n",
    "regression.fit(X_train, y_train)"
   ]
  },
  {
   "cell_type": "code",
   "execution_count": 24,
   "id": "03e56352",
   "metadata": {},
   "outputs": [],
   "source": [
    "# Predicting values of y using X\n",
    "\n",
    "y_predicted = regression.predict(X_test)"
   ]
  },
  {
   "cell_type": "code",
   "execution_count": 25,
   "id": "a97e705d",
   "metadata": {},
   "outputs": [
    {
     "data": {
      "image/png": "[encoded data removed]",
      "text/plain": [
       "<Figure size 432x288 with 1 Axes>"
      ]
     },
     "metadata": {
      "needs_background": "light"
     },
     "output_type": "display_data"
    }
   ],
   "source": [
    "# Creating a scatterplot showing the regression line from the model on the test set\n",
    "\n",
    "plot_test = plt\n",
    "plot_test.scatter(X_test, y_test, color='gray', s = 15)\n",
    "plot_test.plot(X_test, y_predicted, color='red', linewidth =3)\n",
    "plot_test.title('Living Area Sqft vs. Price (Test set)')\n",
    "plot_test.xlabel('Living Area Sqft')\n",
    "plot_test.ylabel('Price')\n",
    "plot_test.show()"
   ]
  },
  {
   "cell_type": "code",
   "execution_count": 26,
   "id": "548cf3bf",
   "metadata": {},
   "outputs": [],
   "source": [
    "# Creating objects that contain the model summary statistics\n",
    "\n",
    "rmse = mean_squared_error(y_test, y_predicted) # This is the mean squared error\n",
    "r2 = r2_score(y_test, y_predicted) # This is the R2 score"
   ]
  },
  {
   "cell_type": "code",
   "execution_count": 27,
   "id": "a88c8129",
   "metadata": {},
   "outputs": [
    {
     "name": "stdout",
     "output_type": "stream",
     "text": [
      "Slope: [[259.20922055]]\n",
      "Mean squared error:  143507306122.0286\n",
      "R2 score:  0.3932522509033466\n"
     ]
    }
   ],
   "source": [
    "# Printing the model summary statistics to evaluate model performance\n",
    "\n",
    "print('Slope:' ,regression.coef_)\n",
    "print('Mean squared error: ', rmse)\n",
    "print('R2 score: ', r2)"
   ]
  },
  {
   "cell_type": "markdown",
   "id": "3f7ea8c9",
   "metadata": {},
   "source": [
    "### Takeaways:\n",
    "\n",
    "● Positive slope indicates there is a positive relationship between the living area sqft and price. As the sqft rises, the price increases at a degree of 259.\n",
    "\n",
    "● The MSE measures accuracy by taking the average squared distance between the estimated values and true values, telling us how close a regression line is to a set of points. The MSE value in the test set is quite high, indicating that a regression may not be the best model to represent this data and cannot accurately predict the influence of living area sqft on price.\n",
    "\n",
    "● R2 metric tells us how well the model explains the variance in the data by calculating a number between 0-1. Numbers closer to 1 indicate a good fit, however, the model was not a good fit in this case because the R2 value was low at 0.3932."
   ]
  },
  {
   "cell_type": "code",
   "execution_count": 28,
   "id": "e978494a",
   "metadata": {},
   "outputs": [
    {
     "data": {
      "text/html": [
       "<div>\n",
       "<style scoped>\n",
       "    .dataframe tbody tr th:only-of-type {\n",
       "        vertical-align: middle;\n",
       "    }\n",
       "\n",
       "    .dataframe tbody tr th {\n",
       "        vertical-align: top;\n",
       "    }\n",
       "\n",
       "    .dataframe thead th {\n",
       "        text-align: right;\n",
       "    }\n",
       "</style>\n",
       "<table border=\"1\" class=\"dataframe\">\n",
       "  <thead>\n",
       "    <tr style=\"text-align: right;\">\n",
       "      <th></th>\n",
       "      <th>Actual</th>\n",
       "      <th>Predicted</th>\n",
       "    </tr>\n",
       "  </thead>\n",
       "  <tbody>\n",
       "    <tr>\n",
       "      <th>0</th>\n",
       "      <td>849000</td>\n",
       "      <td>4.671052e+05</td>\n",
       "    </tr>\n",
       "    <tr>\n",
       "      <th>1</th>\n",
       "      <td>495000</td>\n",
       "      <td>4.564776e+05</td>\n",
       "    </tr>\n",
       "    <tr>\n",
       "      <th>2</th>\n",
       "      <td>330000</td>\n",
       "      <td>3.862319e+05</td>\n",
       "    </tr>\n",
       "    <tr>\n",
       "      <th>3</th>\n",
       "      <td>69000</td>\n",
       "      <td>1.814566e+05</td>\n",
       "    </tr>\n",
       "    <tr>\n",
       "      <th>4</th>\n",
       "      <td>475000</td>\n",
       "      <td>5.871190e+05</td>\n",
       "    </tr>\n",
       "    <tr>\n",
       "      <th>5</th>\n",
       "      <td>250000</td>\n",
       "      <td>3.579781e+05</td>\n",
       "    </tr>\n",
       "    <tr>\n",
       "      <th>6</th>\n",
       "      <td>207500</td>\n",
       "      <td>3.260954e+05</td>\n",
       "    </tr>\n",
       "    <tr>\n",
       "      <th>7</th>\n",
       "      <td>357535</td>\n",
       "      <td>5.827125e+05</td>\n",
       "    </tr>\n",
       "    <tr>\n",
       "      <th>8</th>\n",
       "      <td>1399000</td>\n",
       "      <td>9.953736e+05</td>\n",
       "    </tr>\n",
       "    <tr>\n",
       "      <th>9</th>\n",
       "      <td>375000</td>\n",
       "      <td>5.847862e+05</td>\n",
       "    </tr>\n",
       "    <tr>\n",
       "      <th>10</th>\n",
       "      <td>290000</td>\n",
       "      <td>3.468321e+05</td>\n",
       "    </tr>\n",
       "    <tr>\n",
       "      <th>11</th>\n",
       "      <td>695000</td>\n",
       "      <td>1.059657e+06</td>\n",
       "    </tr>\n",
       "    <tr>\n",
       "      <th>12</th>\n",
       "      <td>579950</td>\n",
       "      <td>8.657690e+05</td>\n",
       "    </tr>\n",
       "    <tr>\n",
       "      <th>13</th>\n",
       "      <td>429000</td>\n",
       "      <td>3.406111e+05</td>\n",
       "    </tr>\n",
       "    <tr>\n",
       "      <th>14</th>\n",
       "      <td>615000</td>\n",
       "      <td>1.010408e+06</td>\n",
       "    </tr>\n",
       "    <tr>\n",
       "      <th>15</th>\n",
       "      <td>477555</td>\n",
       "      <td>3.108020e+05</td>\n",
       "    </tr>\n",
       "    <tr>\n",
       "      <th>16</th>\n",
       "      <td>935000</td>\n",
       "      <td>1.148825e+06</td>\n",
       "    </tr>\n",
       "    <tr>\n",
       "      <th>17</th>\n",
       "      <td>445000</td>\n",
       "      <td>3.654952e+05</td>\n",
       "    </tr>\n",
       "    <tr>\n",
       "      <th>18</th>\n",
       "      <td>350000</td>\n",
       "      <td>3.294651e+05</td>\n",
       "    </tr>\n",
       "    <tr>\n",
       "      <th>19</th>\n",
       "      <td>295000</td>\n",
       "      <td>2.377050e+05</td>\n",
       "    </tr>\n",
       "    <tr>\n",
       "      <th>20</th>\n",
       "      <td>349000</td>\n",
       "      <td>3.349085e+05</td>\n",
       "    </tr>\n",
       "    <tr>\n",
       "      <th>21</th>\n",
       "      <td>325000</td>\n",
       "      <td>1.767908e+05</td>\n",
       "    </tr>\n",
       "    <tr>\n",
       "      <th>22</th>\n",
       "      <td>610000</td>\n",
       "      <td>4.862867e+05</td>\n",
       "    </tr>\n",
       "    <tr>\n",
       "      <th>23</th>\n",
       "      <td>450000</td>\n",
       "      <td>2.037486e+05</td>\n",
       "    </tr>\n",
       "    <tr>\n",
       "      <th>24</th>\n",
       "      <td>615000</td>\n",
       "      <td>8.344046e+05</td>\n",
       "    </tr>\n",
       "    <tr>\n",
       "      <th>25</th>\n",
       "      <td>299500</td>\n",
       "      <td>2.706246e+05</td>\n",
       "    </tr>\n",
       "    <tr>\n",
       "      <th>26</th>\n",
       "      <td>239900</td>\n",
       "      <td>2.076367e+05</td>\n",
       "    </tr>\n",
       "    <tr>\n",
       "      <th>27</th>\n",
       "      <td>239000</td>\n",
       "      <td>4.764367e+05</td>\n",
       "    </tr>\n",
       "    <tr>\n",
       "      <th>28</th>\n",
       "      <td>625000</td>\n",
       "      <td>6.726581e+05</td>\n",
       "    </tr>\n",
       "    <tr>\n",
       "      <th>29</th>\n",
       "      <td>675000</td>\n",
       "      <td>2.185235e+05</td>\n",
       "    </tr>\n",
       "  </tbody>\n",
       "</table>\n",
       "</div>"
      ],
      "text/plain": [
       "     Actual     Predicted\n",
       "0    849000  4.671052e+05\n",
       "1    495000  4.564776e+05\n",
       "2    330000  3.862319e+05\n",
       "3     69000  1.814566e+05\n",
       "4    475000  5.871190e+05\n",
       "5    250000  3.579781e+05\n",
       "6    207500  3.260954e+05\n",
       "7    357535  5.827125e+05\n",
       "8   1399000  9.953736e+05\n",
       "9    375000  5.847862e+05\n",
       "10   290000  3.468321e+05\n",
       "11   695000  1.059657e+06\n",
       "12   579950  8.657690e+05\n",
       "13   429000  3.406111e+05\n",
       "14   615000  1.010408e+06\n",
       "15   477555  3.108020e+05\n",
       "16   935000  1.148825e+06\n",
       "17   445000  3.654952e+05\n",
       "18   350000  3.294651e+05\n",
       "19   295000  2.377050e+05\n",
       "20   349000  3.349085e+05\n",
       "21   325000  1.767908e+05\n",
       "22   610000  4.862867e+05\n",
       "23   450000  2.037486e+05\n",
       "24   615000  8.344046e+05\n",
       "25   299500  2.706246e+05\n",
       "26   239900  2.076367e+05\n",
       "27   239000  4.764367e+05\n",
       "28   625000  6.726581e+05\n",
       "29   675000  2.185235e+05"
      ]
     },
     "execution_count": 28,
     "metadata": {},
     "output_type": "execute_result"
    }
   ],
   "source": [
    "# Creating a df comparing the actual and predicted values of y\n",
    "\n",
    "data = pd.DataFrame({'Actual': y_test.flatten(), 'Predicted': y_predicted.flatten()})\n",
    "data.head(30)"
   ]
  },
  {
   "cell_type": "markdown",
   "id": "76b6a769",
   "metadata": {},
   "source": [
    "#### It can be observed at first glance that several of the predicted and actual values have a big discrepency"
   ]
  },
  {
   "cell_type": "markdown",
   "id": "2e3fb4aa",
   "metadata": {},
   "source": [
    "### Overfitting Check"
   ]
  },
  {
   "cell_type": "code",
   "execution_count": 29,
   "id": "00398855",
   "metadata": {},
   "outputs": [],
   "source": [
    "# Comparing how regression fits the training set - predicting X_train\n",
    "\n",
    "y_predicted_train = regression.predict(X_train)"
   ]
  },
  {
   "cell_type": "code",
   "execution_count": 30,
   "id": "e63e8a24",
   "metadata": {},
   "outputs": [],
   "source": [
    "rmse = mean_squared_error(y_train, y_predicted_train)\n",
    "r2 = r2_score(y_train, y_predicted_train)"
   ]
  },
  {
   "cell_type": "code",
   "execution_count": 31,
   "id": "d7033753",
   "metadata": {},
   "outputs": [
    {
     "name": "stdout",
     "output_type": "stream",
     "text": [
      "Slope: [[259.20922055]]\n",
      "Mean squared error:  107116525827.48833\n",
      "R2 score:  0.3911505649955702\n"
     ]
    }
   ],
   "source": [
    "print('Slope:' ,regression.coef_)\n",
    "print('Mean squared error: ', rmse)\n",
    "print('R2 score: ', r2)"
   ]
  },
  {
   "cell_type": "code",
   "execution_count": 32,
   "id": "a959a4c3",
   "metadata": {},
   "outputs": [
    {
     "data": {
      "image/png": "[encoded data removed]",
      "text/plain": [
       "<Figure size 432x288 with 1 Axes>"
      ]
     },
     "metadata": {
      "needs_background": "light"
     },
     "output_type": "display_data"
    }
   ],
   "source": [
    "# Visualizing training set results\n",
    "\n",
    "plot_test = plt\n",
    "plot_test.scatter(X_train, y_train, color='green', s = 15)\n",
    "plot_test.plot(X_train, y_predicted_train, color='red', linewidth =3)\n",
    "plot_test.title('Living Area Sqft vs. Price (Train set)')\n",
    "plot_test.xlabel('Living Area Sqft')\n",
    "plot_test.ylabel('Price')\n",
    "plot_test.show()"
   ]
  },
  {
   "cell_type": "markdown",
   "id": "8717d989",
   "metadata": {},
   "source": [
    "#### Results show no signs of model overfitting due to the R2 value from the training and test set being almost the same"
   ]
  },
  {
   "cell_type": "markdown",
   "id": "5dbcc250",
   "metadata": {},
   "source": [
    "The initial scatterplot shows that there is a positive correlation between living area sqft and price. However, the model is not able to explain the relationship between the two variables in depth. The summary statistics confirm that a single regression line is not the ideal predicting model for housing prices. It is possible the model was not a good fit due to only one predictor being analyzed when there could be multiple predictors at play."
   ]
  },
  {
   "cell_type": "markdown",
   "id": "68c7cb99",
   "metadata": {},
   "source": [
    "# 07. Exporting Data"
   ]
  },
  {
   "cell_type": "code",
   "execution_count": 34,
   "id": "613d00eb",
   "metadata": {},
   "outputs": [],
   "source": [
    "# Exporting updated dataframe as csv file\n",
    "\n",
    "df.to_csv(os.path.join(path, 'Data', 'Prepared Data', 'austin_housing_clean_4.csv'))"
   ]
  }
 ],
 "metadata": {
  "kernelspec": {
   "display_name": "Python 3 (ipykernel)",
   "language": "python",
   "name": "python3"
  },
  "language_info": {
   "codemirror_mode": {
    "name": "ipython",
    "version": 3
   },
   "file_extension": ".py",
   "mimetype": "text/x-python",
   "name": "python",
   "nbconvert_exporter": "python",
   "pygments_lexer": "ipython3",
   "version": "3.7.6"
  }
 },
 "nbformat": 4,
 "nbformat_minor": 5
}
